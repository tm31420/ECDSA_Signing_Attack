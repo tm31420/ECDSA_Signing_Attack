{
 "cells": [
  {
   "cell_type": "code",
   "execution_count": 20,
   "metadata": {},
   "outputs": [
    {
     "name": "stdout",
     "output_type": "stream",
     "text": [
      "0x40ef48e82e6aa909d9eef02e602d5bf374ea55c6ed6e689599c239efc4d7d16e\n",
      "0xa4078095\n",
      "0xe18a50cf0\n",
      "0xa4078095\n",
      "0xe18a50cf0\n",
      "0xa4078095\n",
      "0xe18a50cf0\n",
      "0x40ef48e82e6aa909d9eef02e602d5bf374ea55c6ed6e689599c239efc4d7d16e\n",
      "0x40ef48e82e6aa909d9eef02e602d5bf374ea55c6ed6e689599c239efc4d7d16e\n",
      "0x40ef48e82e6aa909d9eef02e602d5bf374ea55c6ed6e689599c239efc4d7d16e\n",
      "0x40ef48e82e6aa909d9eef02e602d5bf374ea55c6ed6e689599c239efc4d7d16e\n"
     ]
    }
   ],
   "source": [
    "def h(n):\n",
    "    return hex(n).replace(\"0x\",\"\")\n",
    "\n",
    "def modinv(n, p):\n",
    "    return pow(n, p - 2, p)\n",
    "\n",
    "#rand2 = a * rand1 + b\n",
    "a = 0x16\n",
    "b = 0x22\n",
    "k1 = 0xa4078095\n",
    "k2 = 0xe18a50cf0\n",
    "X = 0x40ef48e82e6aa909d9eef02e602d5bf374ea55c6ed6e689599c239efc4d7d16e\n",
    "r1 = 0x4112df1f206da96e8ef62f6c2c04a55fa8271d4f32afe83051b9a2ef409e959c#\n",
    "s1 = 0x99aa6d274daa023891e30b89c195654efea532ef26140f61aa5ccde09ce24eac#\n",
    "r2 = 0xeb12d0155b6ef0ade1b9faf8e807bde6ef9e2100e7dd4010064dcade54fb8e7c\n",
    "s2 = 0x23cfca0ee0e0fddd9cffbe4508b2ed40197705f6d8ffbda2987cbde3b7d383fc\n",
    "m = 0x79be667ef9dcbbac55a06295ce870b07029bfcdb2dce28d959f2815b16f81798\n",
    "N = 0xfffffffffffffffffffffffffffffffebaaedce6af48a03bbfd25e8cd0364141\n",
    "pkey = (b - m * (s2^-1 - a * s1^-1)) / (r2 * s2^-1 - r1 * a * s1^-1)\n",
    "print(hex(pkey % N))\n",
    "print(hex((((m + (r1*X))*(modinv(s1,N))))%N))\n",
    "print(hex((((m + (r2*X))*(modinv(s2,N))))%N))\n",
    "print(hex((((m + (r1*X))*(modinv(s1,N))))%N))\n",
    "print(hex((((m + (r2*X))*(modinv(s2,N))))%N))\n",
    "print(hex((((m + (r1*X))*(modinv(s1,N))))%N))\n",
    "print(hex((((m + (r2*X))*(modinv(s2,N))))%N))\n",
    "print(hex((((s1 * k1)-m)*(modinv(r1,N)))%N))\n",
    "print(hex((((s2 * k2)-m)*(modinv(r2,N)))%N))\n",
    "print(hex((((s1 * k1)-m)*(modinv(r1,N)))%N))\n",
    "print(hex((((s2 * k2)-m)*(modinv(r2,N)))%N))"
   ]
  },
  {
   "cell_type": "code",
   "execution_count": null,
   "metadata": {},
   "outputs": [],
   "source": []
  },
  {
   "cell_type": "code",
   "execution_count": null,
   "metadata": {},
   "outputs": [],
   "source": []
  },
  {
   "cell_type": "code",
   "execution_count": null,
   "metadata": {},
   "outputs": [],
   "source": []
  }
 ],
 "metadata": {
  "kernelspec": {
   "display_name": "SageMath 9.4",
   "language": "sage",
   "name": "sagemath"
  },
  "language_info": {
   "codemirror_mode": {
    "name": "ipython",
    "version": 3
   },
   "file_extension": ".py",
   "mimetype": "text/x-python",
   "name": "python",
   "nbconvert_exporter": "python",
   "pygments_lexer": "ipython3",
   "version": "3.9.5"
  }
 },
 "nbformat": 4,
 "nbformat_minor": 4
}
